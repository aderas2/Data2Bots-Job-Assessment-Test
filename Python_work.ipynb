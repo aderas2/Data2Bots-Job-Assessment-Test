{
  "nbformat": 4,
  "nbformat_minor": 5,
  "metadata": {
    "kernelspec": {
      "display_name": "Python 3",
      "language": "python",
      "name": "python3"
    },
    "language_info": {
      "codemirror_mode": {
        "name": "ipython",
        "version": 3
      },
      "file_extension": ".py",
      "mimetype": "text/x-python",
      "name": "python",
      "nbconvert_exporter": "python",
      "pygments_lexer": "ipython3",
      "version": "3.8.3"
    },
    "colab": {
      "name": "Python work.ipynb",
      "provenance": [],
      "collapsed_sections": []
    }
  },
  "cells": [
    {
      "cell_type": "code",
      "metadata": {
        "id": "QFqMtpek1nOc"
      },
      "source": [
        "#importing essential libraries\n",
        "import pickle\n",
        "import numpy as np\n",
        "import pandas as pd\n",
        "import seaborn as sns\n",
        "import matplotlib as plt"
      ],
      "id": "QFqMtpek1nOc",
      "execution_count": 61,
      "outputs": []
    },
    {
      "cell_type": "markdown",
      "metadata": {
        "id": "-uudJxZ01nOf"
      },
      "source": [
        "\n",
        "## Challenge:\n",
        "Write a python program that does the following:\n",
        "1. Reads the data from your local file directory\n",
        "\n",
        "2. Adds a new column named [obsolete]. The column should flag TRUE, indicating an item is\n",
        "expired and FALSE, otherwise\n",
        "3. Transform the output data to a JSON format\n",
        "4. Store the data in your local directory\n"
      ],
      "id": "-uudJxZ01nOf"
    },
    {
      "cell_type": "markdown",
      "metadata": {
        "id": "Ubkuk1DP1nOf"
      },
      "source": [
        "# 1. Reads the data from your local file directory"
      ],
      "id": "Ubkuk1DP1nOf"
    },
    {
      "cell_type": "code",
      "metadata": {
        "colab": {
          "base_uri": "https://localhost:8080/",
          "height": 359
        },
        "id": "DtryJqXN1nOg",
        "outputId": "9e0a9d65-6a1d-4a02-d891-0d63f71624df"
      },
      "source": [
        "#Reads the data from your local file directory\n",
        "x = pd.read_csv(\"python hands-on - dataset.csv\")\n",
        "x"
      ],
      "id": "DtryJqXN1nOg",
      "execution_count": 62,
      "outputs": [
        {
          "output_type": "execute_result",
          "data": {
            "text/html": [
              "<div>\n",
              "<style scoped>\n",
              "    .dataframe tbody tr th:only-of-type {\n",
              "        vertical-align: middle;\n",
              "    }\n",
              "\n",
              "    .dataframe tbody tr th {\n",
              "        vertical-align: top;\n",
              "    }\n",
              "\n",
              "    .dataframe thead th {\n",
              "        text-align: right;\n",
              "    }\n",
              "</style>\n",
              "<table border=\"1\" class=\"dataframe\">\n",
              "  <thead>\n",
              "    <tr style=\"text-align: right;\">\n",
              "      <th></th>\n",
              "      <th>date</th>\n",
              "      <th>sku</th>\n",
              "      <th>warehouse_location</th>\n",
              "      <th>quantity</th>\n",
              "    </tr>\n",
              "  </thead>\n",
              "  <tbody>\n",
              "    <tr>\n",
              "      <th>0</th>\n",
              "      <td>2021-01-02</td>\n",
              "      <td>100940478</td>\n",
              "      <td>lagos</td>\n",
              "      <td>23</td>\n",
              "    </tr>\n",
              "    <tr>\n",
              "      <th>1</th>\n",
              "      <td>2020-11-09</td>\n",
              "      <td>100940479</td>\n",
              "      <td>lagos</td>\n",
              "      <td>84</td>\n",
              "    </tr>\n",
              "    <tr>\n",
              "      <th>2</th>\n",
              "      <td>2021-01-15</td>\n",
              "      <td>100940480</td>\n",
              "      <td>oyo</td>\n",
              "      <td>11</td>\n",
              "    </tr>\n",
              "    <tr>\n",
              "      <th>3</th>\n",
              "      <td>2016-11-09</td>\n",
              "      <td>100940481</td>\n",
              "      <td>ogun</td>\n",
              "      <td>98</td>\n",
              "    </tr>\n",
              "    <tr>\n",
              "      <th>4</th>\n",
              "      <td>2017-04-04</td>\n",
              "      <td>100940482</td>\n",
              "      <td>ogun</td>\n",
              "      <td>23</td>\n",
              "    </tr>\n",
              "    <tr>\n",
              "      <th>5</th>\n",
              "      <td>2018-01-13</td>\n",
              "      <td>100940483</td>\n",
              "      <td>abia</td>\n",
              "      <td>3</td>\n",
              "    </tr>\n",
              "    <tr>\n",
              "      <th>6</th>\n",
              "      <td>2021-03-15</td>\n",
              "      <td>100940484</td>\n",
              "      <td>kaduna</td>\n",
              "      <td>7</td>\n",
              "    </tr>\n",
              "    <tr>\n",
              "      <th>7</th>\n",
              "      <td>2021-01-11</td>\n",
              "      <td>100940485</td>\n",
              "      <td>abuja</td>\n",
              "      <td>4</td>\n",
              "    </tr>\n",
              "    <tr>\n",
              "      <th>8</th>\n",
              "      <td>2021-02-16</td>\n",
              "      <td>100940486</td>\n",
              "      <td>kano</td>\n",
              "      <td>9</td>\n",
              "    </tr>\n",
              "    <tr>\n",
              "      <th>9</th>\n",
              "      <td>2019-06-06</td>\n",
              "      <td>100940487</td>\n",
              "      <td>anambra</td>\n",
              "      <td>199</td>\n",
              "    </tr>\n",
              "  </tbody>\n",
              "</table>\n",
              "</div>"
            ],
            "text/plain": [
              "         date        sku warehouse_location  quantity\n",
              "0  2021-01-02  100940478              lagos        23\n",
              "1  2020-11-09  100940479              lagos        84\n",
              "2  2021-01-15  100940480                oyo        11\n",
              "3  2016-11-09  100940481               ogun        98\n",
              "4  2017-04-04  100940482               ogun        23\n",
              "5  2018-01-13  100940483               abia         3\n",
              "6  2021-03-15  100940484             kaduna         7\n",
              "7  2021-01-11  100940485              abuja         4\n",
              "8  2021-02-16  100940486               kano         9\n",
              "9  2019-06-06  100940487            anambra       199"
            ]
          },
          "metadata": {
            "tags": []
          },
          "execution_count": 62
        }
      ]
    },
    {
      "cell_type": "code",
      "metadata": {
        "colab": {
          "base_uri": "https://localhost:8080/"
        },
        "id": "mmV3VtR81nOh",
        "outputId": "b923302a-664e-4fb2-fd91-d547d6bf34cc"
      },
      "source": [
        "x.info()"
      ],
      "id": "mmV3VtR81nOh",
      "execution_count": 63,
      "outputs": [
        {
          "output_type": "stream",
          "text": [
            "<class 'pandas.core.frame.DataFrame'>\n",
            "RangeIndex: 10 entries, 0 to 9\n",
            "Data columns (total 4 columns):\n",
            " #   Column              Non-Null Count  Dtype \n",
            "---  ------              --------------  ----- \n",
            " 0   date                10 non-null     object\n",
            " 1   sku                 10 non-null     int64 \n",
            " 2   warehouse_location  10 non-null     object\n",
            " 3   quantity            10 non-null     int64 \n",
            "dtypes: int64(2), object(2)\n",
            "memory usage: 448.0+ bytes\n"
          ],
          "name": "stdout"
        }
      ]
    },
    {
      "cell_type": "code",
      "metadata": {
        "colab": {
          "base_uri": "https://localhost:8080/"
        },
        "id": "HBYz3y4d1nOh",
        "outputId": "e4e6ad2e-509f-41bb-8d86-416e2331f96f"
      },
      "source": [
        "# converting the date object to datetime data type\n",
        "x['date'] = pd.to_datetime(x['date'])\n",
        "x.info()"
      ],
      "id": "HBYz3y4d1nOh",
      "execution_count": 64,
      "outputs": [
        {
          "output_type": "stream",
          "text": [
            "<class 'pandas.core.frame.DataFrame'>\n",
            "RangeIndex: 10 entries, 0 to 9\n",
            "Data columns (total 4 columns):\n",
            " #   Column              Non-Null Count  Dtype         \n",
            "---  ------              --------------  -----         \n",
            " 0   date                10 non-null     datetime64[ns]\n",
            " 1   sku                 10 non-null     int64         \n",
            " 2   warehouse_location  10 non-null     object        \n",
            " 3   quantity            10 non-null     int64         \n",
            "dtypes: datetime64[ns](1), int64(2), object(1)\n",
            "memory usage: 448.0+ bytes\n"
          ],
          "name": "stdout"
        }
      ]
    },
    {
      "cell_type": "code",
      "metadata": {
        "colab": {
          "base_uri": "https://localhost:8080/",
          "height": 359
        },
        "id": "LKkdDz2H1nOi",
        "outputId": "47505173-05f0-4083-eec4-681064f103c2"
      },
      "source": [
        "x"
      ],
      "id": "LKkdDz2H1nOi",
      "execution_count": 65,
      "outputs": [
        {
          "output_type": "execute_result",
          "data": {
            "text/html": [
              "<div>\n",
              "<style scoped>\n",
              "    .dataframe tbody tr th:only-of-type {\n",
              "        vertical-align: middle;\n",
              "    }\n",
              "\n",
              "    .dataframe tbody tr th {\n",
              "        vertical-align: top;\n",
              "    }\n",
              "\n",
              "    .dataframe thead th {\n",
              "        text-align: right;\n",
              "    }\n",
              "</style>\n",
              "<table border=\"1\" class=\"dataframe\">\n",
              "  <thead>\n",
              "    <tr style=\"text-align: right;\">\n",
              "      <th></th>\n",
              "      <th>date</th>\n",
              "      <th>sku</th>\n",
              "      <th>warehouse_location</th>\n",
              "      <th>quantity</th>\n",
              "    </tr>\n",
              "  </thead>\n",
              "  <tbody>\n",
              "    <tr>\n",
              "      <th>0</th>\n",
              "      <td>2021-01-02</td>\n",
              "      <td>100940478</td>\n",
              "      <td>lagos</td>\n",
              "      <td>23</td>\n",
              "    </tr>\n",
              "    <tr>\n",
              "      <th>1</th>\n",
              "      <td>2020-11-09</td>\n",
              "      <td>100940479</td>\n",
              "      <td>lagos</td>\n",
              "      <td>84</td>\n",
              "    </tr>\n",
              "    <tr>\n",
              "      <th>2</th>\n",
              "      <td>2021-01-15</td>\n",
              "      <td>100940480</td>\n",
              "      <td>oyo</td>\n",
              "      <td>11</td>\n",
              "    </tr>\n",
              "    <tr>\n",
              "      <th>3</th>\n",
              "      <td>2016-11-09</td>\n",
              "      <td>100940481</td>\n",
              "      <td>ogun</td>\n",
              "      <td>98</td>\n",
              "    </tr>\n",
              "    <tr>\n",
              "      <th>4</th>\n",
              "      <td>2017-04-04</td>\n",
              "      <td>100940482</td>\n",
              "      <td>ogun</td>\n",
              "      <td>23</td>\n",
              "    </tr>\n",
              "    <tr>\n",
              "      <th>5</th>\n",
              "      <td>2018-01-13</td>\n",
              "      <td>100940483</td>\n",
              "      <td>abia</td>\n",
              "      <td>3</td>\n",
              "    </tr>\n",
              "    <tr>\n",
              "      <th>6</th>\n",
              "      <td>2021-03-15</td>\n",
              "      <td>100940484</td>\n",
              "      <td>kaduna</td>\n",
              "      <td>7</td>\n",
              "    </tr>\n",
              "    <tr>\n",
              "      <th>7</th>\n",
              "      <td>2021-01-11</td>\n",
              "      <td>100940485</td>\n",
              "      <td>abuja</td>\n",
              "      <td>4</td>\n",
              "    </tr>\n",
              "    <tr>\n",
              "      <th>8</th>\n",
              "      <td>2021-02-16</td>\n",
              "      <td>100940486</td>\n",
              "      <td>kano</td>\n",
              "      <td>9</td>\n",
              "    </tr>\n",
              "    <tr>\n",
              "      <th>9</th>\n",
              "      <td>2019-06-06</td>\n",
              "      <td>100940487</td>\n",
              "      <td>anambra</td>\n",
              "      <td>199</td>\n",
              "    </tr>\n",
              "  </tbody>\n",
              "</table>\n",
              "</div>"
            ],
            "text/plain": [
              "        date        sku warehouse_location  quantity\n",
              "0 2021-01-02  100940478              lagos        23\n",
              "1 2020-11-09  100940479              lagos        84\n",
              "2 2021-01-15  100940480                oyo        11\n",
              "3 2016-11-09  100940481               ogun        98\n",
              "4 2017-04-04  100940482               ogun        23\n",
              "5 2018-01-13  100940483               abia         3\n",
              "6 2021-03-15  100940484             kaduna         7\n",
              "7 2021-01-11  100940485              abuja         4\n",
              "8 2021-02-16  100940486               kano         9\n",
              "9 2019-06-06  100940487            anambra       199"
            ]
          },
          "metadata": {
            "tags": []
          },
          "execution_count": 65
        }
      ]
    },
    {
      "cell_type": "markdown",
      "metadata": {
        "id": "Nz2Rd_Yf1nOi"
      },
      "source": [
        "# 2. Adds a new column named [obsolete]. The column should flag TRUE, indicating an item is expired and FALSE, otherwise"
      ],
      "id": "Nz2Rd_Yf1nOi"
    },
    {
      "cell_type": "code",
      "metadata": {
        "colab": {
          "base_uri": "https://localhost:8080/",
          "height": 359
        },
        "id": "GqZgqiZp1nOj",
        "outputId": "ae02e7ec-a01b-4921-bfb5-fcecfb90dedf"
      },
      "source": [
        "# Adds a new column named [obsolete]. The column should flag TRUE, indicating an item is expired and FALSE, otherwise\n",
        "x['obsolete'] = x['date'] < '2021-01-01'\n",
        "x"
      ],
      "id": "GqZgqiZp1nOj",
      "execution_count": 66,
      "outputs": [
        {
          "output_type": "execute_result",
          "data": {
            "text/html": [
              "<div>\n",
              "<style scoped>\n",
              "    .dataframe tbody tr th:only-of-type {\n",
              "        vertical-align: middle;\n",
              "    }\n",
              "\n",
              "    .dataframe tbody tr th {\n",
              "        vertical-align: top;\n",
              "    }\n",
              "\n",
              "    .dataframe thead th {\n",
              "        text-align: right;\n",
              "    }\n",
              "</style>\n",
              "<table border=\"1\" class=\"dataframe\">\n",
              "  <thead>\n",
              "    <tr style=\"text-align: right;\">\n",
              "      <th></th>\n",
              "      <th>date</th>\n",
              "      <th>sku</th>\n",
              "      <th>warehouse_location</th>\n",
              "      <th>quantity</th>\n",
              "      <th>obsolete</th>\n",
              "    </tr>\n",
              "  </thead>\n",
              "  <tbody>\n",
              "    <tr>\n",
              "      <th>0</th>\n",
              "      <td>2021-01-02</td>\n",
              "      <td>100940478</td>\n",
              "      <td>lagos</td>\n",
              "      <td>23</td>\n",
              "      <td>False</td>\n",
              "    </tr>\n",
              "    <tr>\n",
              "      <th>1</th>\n",
              "      <td>2020-11-09</td>\n",
              "      <td>100940479</td>\n",
              "      <td>lagos</td>\n",
              "      <td>84</td>\n",
              "      <td>True</td>\n",
              "    </tr>\n",
              "    <tr>\n",
              "      <th>2</th>\n",
              "      <td>2021-01-15</td>\n",
              "      <td>100940480</td>\n",
              "      <td>oyo</td>\n",
              "      <td>11</td>\n",
              "      <td>False</td>\n",
              "    </tr>\n",
              "    <tr>\n",
              "      <th>3</th>\n",
              "      <td>2016-11-09</td>\n",
              "      <td>100940481</td>\n",
              "      <td>ogun</td>\n",
              "      <td>98</td>\n",
              "      <td>True</td>\n",
              "    </tr>\n",
              "    <tr>\n",
              "      <th>4</th>\n",
              "      <td>2017-04-04</td>\n",
              "      <td>100940482</td>\n",
              "      <td>ogun</td>\n",
              "      <td>23</td>\n",
              "      <td>True</td>\n",
              "    </tr>\n",
              "    <tr>\n",
              "      <th>5</th>\n",
              "      <td>2018-01-13</td>\n",
              "      <td>100940483</td>\n",
              "      <td>abia</td>\n",
              "      <td>3</td>\n",
              "      <td>True</td>\n",
              "    </tr>\n",
              "    <tr>\n",
              "      <th>6</th>\n",
              "      <td>2021-03-15</td>\n",
              "      <td>100940484</td>\n",
              "      <td>kaduna</td>\n",
              "      <td>7</td>\n",
              "      <td>False</td>\n",
              "    </tr>\n",
              "    <tr>\n",
              "      <th>7</th>\n",
              "      <td>2021-01-11</td>\n",
              "      <td>100940485</td>\n",
              "      <td>abuja</td>\n",
              "      <td>4</td>\n",
              "      <td>False</td>\n",
              "    </tr>\n",
              "    <tr>\n",
              "      <th>8</th>\n",
              "      <td>2021-02-16</td>\n",
              "      <td>100940486</td>\n",
              "      <td>kano</td>\n",
              "      <td>9</td>\n",
              "      <td>False</td>\n",
              "    </tr>\n",
              "    <tr>\n",
              "      <th>9</th>\n",
              "      <td>2019-06-06</td>\n",
              "      <td>100940487</td>\n",
              "      <td>anambra</td>\n",
              "      <td>199</td>\n",
              "      <td>True</td>\n",
              "    </tr>\n",
              "  </tbody>\n",
              "</table>\n",
              "</div>"
            ],
            "text/plain": [
              "        date        sku warehouse_location  quantity  obsolete\n",
              "0 2021-01-02  100940478              lagos        23     False\n",
              "1 2020-11-09  100940479              lagos        84      True\n",
              "2 2021-01-15  100940480                oyo        11     False\n",
              "3 2016-11-09  100940481               ogun        98      True\n",
              "4 2017-04-04  100940482               ogun        23      True\n",
              "5 2018-01-13  100940483               abia         3      True\n",
              "6 2021-03-15  100940484             kaduna         7     False\n",
              "7 2021-01-11  100940485              abuja         4     False\n",
              "8 2021-02-16  100940486               kano         9     False\n",
              "9 2019-06-06  100940487            anambra       199      True"
            ]
          },
          "metadata": {
            "tags": []
          },
          "execution_count": 66
        }
      ]
    },
    {
      "cell_type": "markdown",
      "metadata": {
        "id": "UamIT_hT1nOk"
      },
      "source": [
        "# 3. Transform the output data to a JSON format"
      ],
      "id": "UamIT_hT1nOk"
    },
    {
      "cell_type": "code",
      "metadata": {
        "colab": {
          "base_uri": "https://localhost:8080/",
          "height": 137
        },
        "id": "NJVukwaI1nOk",
        "outputId": "f4b07dda-c7be-4e92-d013-010d54d8670e"
      },
      "source": [
        "# Transform the output data to a JSON format \n",
        "x_json = x.to_json()\n",
        "x_json"
      ],
      "id": "NJVukwaI1nOk",
      "execution_count": 67,
      "outputs": [
        {
          "output_type": "execute_result",
          "data": {
            "application/vnd.google.colaboratory.intrinsic+json": {
              "type": "string"
            },
            "text/plain": [
              "'{\"date\":{\"0\":1609545600000,\"1\":1604880000000,\"2\":1610668800000,\"3\":1478649600000,\"4\":1491264000000,\"5\":1515801600000,\"6\":1615766400000,\"7\":1610323200000,\"8\":1613433600000,\"9\":1559779200000},\"sku\":{\"0\":100940478,\"1\":100940479,\"2\":100940480,\"3\":100940481,\"4\":100940482,\"5\":100940483,\"6\":100940484,\"7\":100940485,\"8\":100940486,\"9\":100940487},\"warehouse_location\":{\"0\":\"lagos\",\"1\":\"lagos\",\"2\":\"oyo\",\"3\":\"ogun\",\"4\":\"ogun\",\"5\":\"abia\",\"6\":\"kaduna\",\"7\":\"abuja\",\"8\":\"kano\",\"9\":\"anambra\"},\"quantity\":{\"0\":23,\"1\":84,\"2\":11,\"3\":98,\"4\":23,\"5\":3,\"6\":7,\"7\":4,\"8\":9,\"9\":199},\"obsolete\":{\"0\":false,\"1\":true,\"2\":false,\"3\":true,\"4\":true,\"5\":true,\"6\":false,\"7\":false,\"8\":false,\"9\":true}}'"
            ]
          },
          "metadata": {
            "tags": []
          },
          "execution_count": 67
        }
      ]
    },
    {
      "cell_type": "markdown",
      "metadata": {
        "id": "GDXTQk6i1nOl"
      },
      "source": [
        "# 4. Store the data in your local directory (disk)"
      ],
      "id": "GDXTQk6i1nOl"
    },
    {
      "cell_type": "code",
      "metadata": {
        "id": "hkzTy1GH1nOl"
      },
      "source": [
        "# Store the data in your local directory (disk)\n",
        "import pickle\n",
        "filename = 'python hands-on - dataset.json'\n",
        "pickle.dump(x_json, open(filename,'wb'))"
      ],
      "id": "hkzTy1GH1nOl",
      "execution_count": 68,
      "outputs": []
    },
    {
      "cell_type": "markdown",
      "metadata": {
        "id": "XLP93NPl1nOm"
      },
      "source": [
        "# some time later...\n",
        " \n",
        "# load the file from disk"
      ],
      "id": "XLP93NPl1nOm"
    },
    {
      "cell_type": "code",
      "metadata": {
        "colab": {
          "base_uri": "https://localhost:8080/"
        },
        "id": "GpQZKpLv1nOm",
        "outputId": "0c6cd03f-17b2-4e26-ee12-321175fab6aa"
      },
      "source": [
        "loaded_x_json = pickle.load(open('python hands-on - dataset.json', 'rb'))\n",
        "print(loaded_x_json)"
      ],
      "id": "GpQZKpLv1nOm",
      "execution_count": 69,
      "outputs": [
        {
          "output_type": "stream",
          "text": [
            "{\"date\":{\"0\":1609545600000,\"1\":1604880000000,\"2\":1610668800000,\"3\":1478649600000,\"4\":1491264000000,\"5\":1515801600000,\"6\":1615766400000,\"7\":1610323200000,\"8\":1613433600000,\"9\":1559779200000},\"sku\":{\"0\":100940478,\"1\":100940479,\"2\":100940480,\"3\":100940481,\"4\":100940482,\"5\":100940483,\"6\":100940484,\"7\":100940485,\"8\":100940486,\"9\":100940487},\"warehouse_location\":{\"0\":\"lagos\",\"1\":\"lagos\",\"2\":\"oyo\",\"3\":\"ogun\",\"4\":\"ogun\",\"5\":\"abia\",\"6\":\"kaduna\",\"7\":\"abuja\",\"8\":\"kano\",\"9\":\"anambra\"},\"quantity\":{\"0\":23,\"1\":84,\"2\":11,\"3\":98,\"4\":23,\"5\":3,\"6\":7,\"7\":4,\"8\":9,\"9\":199},\"obsolete\":{\"0\":false,\"1\":true,\"2\":false,\"3\":true,\"4\":true,\"5\":true,\"6\":false,\"7\":false,\"8\":false,\"9\":true}}\n"
          ],
          "name": "stdout"
        }
      ]
    },
    {
      "cell_type": "markdown",
      "metadata": {
        "id": "Pn2AXPoa2aks"
      },
      "source": [
        "# 5. Exploratory Data Analyst (EDA)"
      ],
      "id": "Pn2AXPoa2aks"
    },
    {
      "cell_type": "code",
      "metadata": {
        "colab": {
          "base_uri": "https://localhost:8080/",
          "height": 601
        },
        "id": "RRpd_sGt4MdS",
        "outputId": "90187331-99d0-40bc-a3dd-c0f355fa89ff"
      },
      "source": [
        "sns.pairplot(x)"
      ],
      "id": "RRpd_sGt4MdS",
      "execution_count": 70,
      "outputs": [
        {
          "output_type": "stream",
          "text": [
            "<string>:6: RuntimeWarning: Converting input from bool to <class 'numpy.uint8'> for compatibility.\n",
            "<string>:6: RuntimeWarning: Converting input from bool to <class 'numpy.uint8'> for compatibility.\n"
          ],
          "name": "stderr"
        },
        {
          "output_type": "execute_result",
          "data": {
            "text/plain": [
              "<seaborn.axisgrid.PairGrid at 0x7f06c8488cd0>"
            ]
          },
          "metadata": {
            "tags": []
          },
          "execution_count": 70
        },
        {
          "output_type": "display_data",
          "data": {
            "image/png": "[encoded data removed]",
            "text/plain": [
              "<Figure size 540x540 with 12 Axes>"
            ]
          },
          "metadata": {
            "tags": [],
            "needs_background": "light"
          }
        }
      ]
    },
    {
      "cell_type": "code",
      "metadata": {
        "colab": {
          "base_uri": "https://localhost:8080/",
          "height": 391
        },
        "id": "BJ5aKKNZ2lmK",
        "outputId": "0257dd34-bce4-48c6-e05b-b382b5ea384c"
      },
      "source": [
        "sns.pairplot(x, hue='obsolete')"
      ],
      "id": "BJ5aKKNZ2lmK",
      "execution_count": 71,
      "outputs": [
        {
          "output_type": "execute_result",
          "data": {
            "text/plain": [
              "<seaborn.axisgrid.PairGrid at 0x7f06bb0ca490>"
            ]
          },
          "metadata": {
            "tags": []
          },
          "execution_count": 71
        },
        {
          "output_type": "display_data",
          "data": {
            "image/png": "[encoded data removed]",
            "text/plain": [
              "<Figure size 421.25x360 with 6 Axes>"
            ]
          },
          "metadata": {
            "tags": [],
            "needs_background": "light"
          }
        }
      ]
    },
    {
      "cell_type": "code",
      "metadata": {
        "colab": {
          "base_uri": "https://localhost:8080/",
          "height": 296
        },
        "id": "lO4AzEHg4HCV",
        "outputId": "0045aaf0-5b92-4d03-c1c9-d1a9fbe4dcd9"
      },
      "source": [
        "sns.lineplot(x=\"date\", y=\"quantity\",\n",
        "             hue=\"obsolete\",\n",
        "             data=x)"
      ],
      "id": "lO4AzEHg4HCV",
      "execution_count": 72,
      "outputs": [
        {
          "output_type": "execute_result",
          "data": {
            "text/plain": [
              "<matplotlib.axes._subplots.AxesSubplot at 0x7f06baebdbd0>"
            ]
          },
          "metadata": {
            "tags": []
          },
          "execution_count": 72
        },
        {
          "output_type": "display_data",
          "data": {
            "image/png": "[encoded data removed]",
            "text/plain": [
              "<Figure size 432x288 with 1 Axes>"
            ]
          },
          "metadata": {
            "tags": [],
            "needs_background": "light"
          }
        }
      ]
    },
    {
      "cell_type": "markdown",
      "metadata": {
        "id": "DW6g7K-f1nOn"
      },
      "source": [
        "###### The End  &copy; Bilau Adeniran"
      ],
      "id": "DW6g7K-f1nOn"
    }
  ]
}